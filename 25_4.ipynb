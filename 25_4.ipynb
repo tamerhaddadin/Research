{
 "cells": [
  {
   "cell_type": "code",
   "execution_count": 258,
   "metadata": {},
   "outputs": [],
   "source": [
    "### Importing necessary libraries ###\n",
    "\n",
    "import pandas as pd\n",
    "import numpy as np\n",
    "import matplotlib.pyplot as plt\n",
    "import glob\n",
    "%matplotlib inline\n",
    "import seaborn as sns \n"
   ]
  },
  {
   "cell_type": "markdown",
   "metadata": {},
   "source": [
    "### Importing the reviews for all thriller movies from 2017-2021"
   ]
  },
  {
   "cell_type": "code",
   "execution_count": 259,
   "metadata": {},
   "outputs": [],
   "source": [
    "Thriller_url =\"https://raw.githubusercontent.com/ddb336/CSS-IMDb-Dataset/main/Data/genres-combined/Thriller_reviews_combined.csv\""
   ]
  },
  {
   "cell_type": "code",
   "execution_count": 260,
   "metadata": {},
   "outputs": [
    {
     "name": "stdout",
     "output_type": "stream",
     "text": [
      "<class 'pandas.core.frame.DataFrame'>\n",
      "RangeIndex: 20373 entries, 0 to 20372\n",
      "Data columns (total 6 columns):\n",
      " #   Column                        Non-Null Count  Dtype  \n",
      "---  ------                        --------------  -----  \n",
      " 0   title_id                      20373 non-null  object \n",
      " 1   review_title                  20373 non-null  object \n",
      " 2   review_title_sentiment_score  20373 non-null  float64\n",
      " 3   review_text_sentiment_score   20373 non-null  float64\n",
      " 4   date                          20373 non-null  object \n",
      " 5   rating                        20373 non-null  int64  \n",
      "dtypes: float64(2), int64(1), object(3)\n",
      "memory usage: 955.1+ KB\n"
     ]
    }
   ],
   "source": [
    "thriller = pd.read_csv(Thriller_url)\n",
    "\n",
    "thriller.info()"
   ]
  },
  {
   "cell_type": "code",
   "execution_count": 261,
   "metadata": {},
   "outputs": [
    {
     "data": {
      "text/html": [
       "<div>\n",
       "<style scoped>\n",
       "    .dataframe tbody tr th:only-of-type {\n",
       "        vertical-align: middle;\n",
       "    }\n",
       "\n",
       "    .dataframe tbody tr th {\n",
       "        vertical-align: top;\n",
       "    }\n",
       "\n",
       "    .dataframe thead th {\n",
       "        text-align: right;\n",
       "    }\n",
       "</style>\n",
       "<table border=\"1\" class=\"dataframe\">\n",
       "  <thead>\n",
       "    <tr style=\"text-align: right;\">\n",
       "      <th></th>\n",
       "      <th>title_id</th>\n",
       "      <th>review_title</th>\n",
       "      <th>review_title_sentiment_score</th>\n",
       "      <th>review_text_sentiment_score</th>\n",
       "      <th>date</th>\n",
       "      <th>rating</th>\n",
       "    </tr>\n",
       "  </thead>\n",
       "  <tbody>\n",
       "    <tr>\n",
       "      <th>0</th>\n",
       "      <td>tt2267998</td>\n",
       "      <td>Interesting end\\n</td>\n",
       "      <td>0.4019</td>\n",
       "      <td>0.9810</td>\n",
       "      <td>2021-03-28 00:00:00</td>\n",
       "      <td>9</td>\n",
       "    </tr>\n",
       "    <tr>\n",
       "      <th>1</th>\n",
       "      <td>tt2267998</td>\n",
       "      <td>A masterpiece\\n</td>\n",
       "      <td>0.6249</td>\n",
       "      <td>0.0000</td>\n",
       "      <td>2021-03-20 00:00:00</td>\n",
       "      <td>10</td>\n",
       "    </tr>\n",
       "    <tr>\n",
       "      <th>2</th>\n",
       "      <td>tt2267998</td>\n",
       "      <td>Ending sucked Unfortunately\\n</td>\n",
       "      <td>-0.6597</td>\n",
       "      <td>-0.9966</td>\n",
       "      <td>2021-03-19 00:00:00</td>\n",
       "      <td>6</td>\n",
       "    </tr>\n",
       "    <tr>\n",
       "      <th>3</th>\n",
       "      <td>tt2267998</td>\n",
       "      <td>impressive film that guides the audience\\n</td>\n",
       "      <td>0.5106</td>\n",
       "      <td>0.9258</td>\n",
       "      <td>2021-03-18 00:00:00</td>\n",
       "      <td>9</td>\n",
       "    </tr>\n",
       "    <tr>\n",
       "      <th>4</th>\n",
       "      <td>tt2267998</td>\n",
       "      <td>Great movie but I am pissed off\\n</td>\n",
       "      <td>-0.6428</td>\n",
       "      <td>-0.9159</td>\n",
       "      <td>2021-03-18 00:00:00</td>\n",
       "      <td>9</td>\n",
       "    </tr>\n",
       "  </tbody>\n",
       "</table>\n",
       "</div>"
      ],
      "text/plain": [
       "    title_id                                 review_title  \\\n",
       "0  tt2267998                            Interesting end\\n   \n",
       "1  tt2267998                              A masterpiece\\n   \n",
       "2  tt2267998                Ending sucked Unfortunately\\n   \n",
       "3  tt2267998   impressive film that guides the audience\\n   \n",
       "4  tt2267998            Great movie but I am pissed off\\n   \n",
       "\n",
       "   review_title_sentiment_score  review_text_sentiment_score  \\\n",
       "0                        0.4019                       0.9810   \n",
       "1                        0.6249                       0.0000   \n",
       "2                       -0.6597                      -0.9966   \n",
       "3                        0.5106                       0.9258   \n",
       "4                       -0.6428                      -0.9159   \n",
       "\n",
       "                  date  rating  \n",
       "0  2021-03-28 00:00:00       9  \n",
       "1  2021-03-20 00:00:00      10  \n",
       "2  2021-03-19 00:00:00       6  \n",
       "3  2021-03-18 00:00:00       9  \n",
       "4  2021-03-18 00:00:00       9  "
      ]
     },
     "execution_count": 261,
     "metadata": {},
     "output_type": "execute_result"
    }
   ],
   "source": [
    "thriller.head()"
   ]
  },
  {
   "cell_type": "markdown",
   "metadata": {},
   "source": [
    "### Data Filtering"
   ]
  },
  {
   "cell_type": "markdown",
   "metadata": {},
   "source": [
    "#### Fixing the 'date' column"
   ]
  },
  {
   "cell_type": "code",
   "execution_count": 262,
   "metadata": {
    "scrolled": true
   },
   "outputs": [
    {
     "data": {
      "text/plain": [
       "0        2021-03-28 00:00:00\n",
       "1        2021-03-20 00:00:00\n",
       "2        2021-03-19 00:00:00\n",
       "3        2021-03-18 00:00:00\n",
       "4        2021-03-18 00:00:00\n",
       "                ...         \n",
       "20368    2018-07-16 00:00:00\n",
       "20369    2018-05-13 00:00:00\n",
       "20370    2017-08-25 00:00:00\n",
       "20371    2017-04-02 00:00:00\n",
       "20372    2017-03-08 00:00:00\n",
       "Name: date, Length: 20373, dtype: object"
      ]
     },
     "execution_count": 262,
     "metadata": {},
     "output_type": "execute_result"
    }
   ],
   "source": [
    "## Chekcing the date column as it is an important independent variable in our research\n",
    "thriller['date']"
   ]
  },
  {
   "cell_type": "code",
   "execution_count": 264,
   "metadata": {},
   "outputs": [],
   "source": [
    "thriller['date'] = pd.to_datetime(thriller['date'])"
   ]
  },
  {
   "cell_type": "code",
   "execution_count": 265,
   "metadata": {},
   "outputs": [
    {
     "data": {
      "text/html": [
       "<div>\n",
       "<style scoped>\n",
       "    .dataframe tbody tr th:only-of-type {\n",
       "        vertical-align: middle;\n",
       "    }\n",
       "\n",
       "    .dataframe tbody tr th {\n",
       "        vertical-align: top;\n",
       "    }\n",
       "\n",
       "    .dataframe thead th {\n",
       "        text-align: right;\n",
       "    }\n",
       "</style>\n",
       "<table border=\"1\" class=\"dataframe\">\n",
       "  <thead>\n",
       "    <tr style=\"text-align: right;\">\n",
       "      <th></th>\n",
       "      <th>title_id</th>\n",
       "      <th>review_title</th>\n",
       "      <th>review_title_sentiment_score</th>\n",
       "      <th>review_text_sentiment_score</th>\n",
       "      <th>date</th>\n",
       "      <th>rating</th>\n",
       "    </tr>\n",
       "  </thead>\n",
       "  <tbody>\n",
       "    <tr>\n",
       "      <th>0</th>\n",
       "      <td>tt2267998</td>\n",
       "      <td>Interesting end\\n</td>\n",
       "      <td>0.4019</td>\n",
       "      <td>0.9810</td>\n",
       "      <td>2021-03-28</td>\n",
       "      <td>9</td>\n",
       "    </tr>\n",
       "    <tr>\n",
       "      <th>1</th>\n",
       "      <td>tt2267998</td>\n",
       "      <td>A masterpiece\\n</td>\n",
       "      <td>0.6249</td>\n",
       "      <td>0.0000</td>\n",
       "      <td>2021-03-20</td>\n",
       "      <td>10</td>\n",
       "    </tr>\n",
       "    <tr>\n",
       "      <th>2</th>\n",
       "      <td>tt2267998</td>\n",
       "      <td>Ending sucked Unfortunately\\n</td>\n",
       "      <td>-0.6597</td>\n",
       "      <td>-0.9966</td>\n",
       "      <td>2021-03-19</td>\n",
       "      <td>6</td>\n",
       "    </tr>\n",
       "    <tr>\n",
       "      <th>3</th>\n",
       "      <td>tt2267998</td>\n",
       "      <td>impressive film that guides the audience\\n</td>\n",
       "      <td>0.5106</td>\n",
       "      <td>0.9258</td>\n",
       "      <td>2021-03-18</td>\n",
       "      <td>9</td>\n",
       "    </tr>\n",
       "    <tr>\n",
       "      <th>4</th>\n",
       "      <td>tt2267998</td>\n",
       "      <td>Great movie but I am pissed off\\n</td>\n",
       "      <td>-0.6428</td>\n",
       "      <td>-0.9159</td>\n",
       "      <td>2021-03-18</td>\n",
       "      <td>9</td>\n",
       "    </tr>\n",
       "  </tbody>\n",
       "</table>\n",
       "</div>"
      ],
      "text/plain": [
       "    title_id                                 review_title  \\\n",
       "0  tt2267998                            Interesting end\\n   \n",
       "1  tt2267998                              A masterpiece\\n   \n",
       "2  tt2267998                Ending sucked Unfortunately\\n   \n",
       "3  tt2267998   impressive film that guides the audience\\n   \n",
       "4  tt2267998            Great movie but I am pissed off\\n   \n",
       "\n",
       "   review_title_sentiment_score  review_text_sentiment_score       date  \\\n",
       "0                        0.4019                       0.9810 2021-03-28   \n",
       "1                        0.6249                       0.0000 2021-03-20   \n",
       "2                       -0.6597                      -0.9966 2021-03-19   \n",
       "3                        0.5106                       0.9258 2021-03-18   \n",
       "4                       -0.6428                      -0.9159 2021-03-18   \n",
       "\n",
       "   rating  \n",
       "0       9  \n",
       "1      10  \n",
       "2       6  \n",
       "3       9  \n",
       "4       9  "
      ]
     },
     "execution_count": 265,
     "metadata": {},
     "output_type": "execute_result"
    }
   ],
   "source": [
    "thriller.head()"
   ]
  },
  {
   "cell_type": "code",
   "execution_count": 266,
   "metadata": {},
   "outputs": [
    {
     "data": {
      "text/plain": [
       "title_id                                object\n",
       "review_title                            object\n",
       "review_title_sentiment_score           float64\n",
       "review_text_sentiment_score            float64\n",
       "date                            datetime64[ns]\n",
       "rating                                   int64\n",
       "dtype: object"
      ]
     },
     "execution_count": 266,
     "metadata": {},
     "output_type": "execute_result"
    }
   ],
   "source": [
    "thriller.dtypes"
   ]
  },
  {
   "cell_type": "markdown",
   "metadata": {},
   "source": [
    "#### Fixing the sentiment analysis columns"
   ]
  },
  {
   "cell_type": "code",
   "execution_count": 267,
   "metadata": {},
   "outputs": [],
   "source": [
    "thriller.rename(columns={'review_title_sentiment_score': 'title_score', 'review_text_sentiment_score': 'text_score'},inplace=True)"
   ]
  },
  {
   "cell_type": "code",
   "execution_count": 268,
   "metadata": {},
   "outputs": [
    {
     "data": {
      "text/html": [
       "<div>\n",
       "<style scoped>\n",
       "    .dataframe tbody tr th:only-of-type {\n",
       "        vertical-align: middle;\n",
       "    }\n",
       "\n",
       "    .dataframe tbody tr th {\n",
       "        vertical-align: top;\n",
       "    }\n",
       "\n",
       "    .dataframe thead th {\n",
       "        text-align: right;\n",
       "    }\n",
       "</style>\n",
       "<table border=\"1\" class=\"dataframe\">\n",
       "  <thead>\n",
       "    <tr style=\"text-align: right;\">\n",
       "      <th></th>\n",
       "      <th>title_id</th>\n",
       "      <th>review_title</th>\n",
       "      <th>title_score</th>\n",
       "      <th>text_score</th>\n",
       "      <th>date</th>\n",
       "      <th>rating</th>\n",
       "    </tr>\n",
       "  </thead>\n",
       "  <tbody>\n",
       "    <tr>\n",
       "      <th>0</th>\n",
       "      <td>tt2267998</td>\n",
       "      <td>Interesting end\\n</td>\n",
       "      <td>0.4019</td>\n",
       "      <td>0.9810</td>\n",
       "      <td>2021-03-28</td>\n",
       "      <td>9</td>\n",
       "    </tr>\n",
       "    <tr>\n",
       "      <th>1</th>\n",
       "      <td>tt2267998</td>\n",
       "      <td>A masterpiece\\n</td>\n",
       "      <td>0.6249</td>\n",
       "      <td>0.0000</td>\n",
       "      <td>2021-03-20</td>\n",
       "      <td>10</td>\n",
       "    </tr>\n",
       "    <tr>\n",
       "      <th>2</th>\n",
       "      <td>tt2267998</td>\n",
       "      <td>Ending sucked Unfortunately\\n</td>\n",
       "      <td>-0.6597</td>\n",
       "      <td>-0.9966</td>\n",
       "      <td>2021-03-19</td>\n",
       "      <td>6</td>\n",
       "    </tr>\n",
       "    <tr>\n",
       "      <th>3</th>\n",
       "      <td>tt2267998</td>\n",
       "      <td>impressive film that guides the audience\\n</td>\n",
       "      <td>0.5106</td>\n",
       "      <td>0.9258</td>\n",
       "      <td>2021-03-18</td>\n",
       "      <td>9</td>\n",
       "    </tr>\n",
       "    <tr>\n",
       "      <th>4</th>\n",
       "      <td>tt2267998</td>\n",
       "      <td>Great movie but I am pissed off\\n</td>\n",
       "      <td>-0.6428</td>\n",
       "      <td>-0.9159</td>\n",
       "      <td>2021-03-18</td>\n",
       "      <td>9</td>\n",
       "    </tr>\n",
       "  </tbody>\n",
       "</table>\n",
       "</div>"
      ],
      "text/plain": [
       "    title_id                                 review_title  title_score  \\\n",
       "0  tt2267998                            Interesting end\\n       0.4019   \n",
       "1  tt2267998                              A masterpiece\\n       0.6249   \n",
       "2  tt2267998                Ending sucked Unfortunately\\n      -0.6597   \n",
       "3  tt2267998   impressive film that guides the audience\\n       0.5106   \n",
       "4  tt2267998            Great movie but I am pissed off\\n      -0.6428   \n",
       "\n",
       "   text_score       date  rating  \n",
       "0      0.9810 2021-03-28       9  \n",
       "1      0.0000 2021-03-20      10  \n",
       "2     -0.9966 2021-03-19       6  \n",
       "3      0.9258 2021-03-18       9  \n",
       "4     -0.9159 2021-03-18       9  "
      ]
     },
     "execution_count": 268,
     "metadata": {},
     "output_type": "execute_result"
    }
   ],
   "source": [
    "thriller.head()"
   ]
  },
  {
   "cell_type": "code",
   "execution_count": 269,
   "metadata": {},
   "outputs": [
    {
     "data": {
      "text/plain": [
       "title_id                object\n",
       "review_title            object\n",
       "title_score            float64\n",
       "text_score             float64\n",
       "date            datetime64[ns]\n",
       "rating                   int64\n",
       "dtype: object"
      ]
     },
     "execution_count": 269,
     "metadata": {},
     "output_type": "execute_result"
    }
   ],
   "source": [
    "thriller.dtypes"
   ]
  },
  {
   "cell_type": "code",
   "execution_count": 270,
   "metadata": {},
   "outputs": [
    {
     "data": {
      "text/html": [
       "<div>\n",
       "<style scoped>\n",
       "    .dataframe tbody tr th:only-of-type {\n",
       "        vertical-align: middle;\n",
       "    }\n",
       "\n",
       "    .dataframe tbody tr th {\n",
       "        vertical-align: top;\n",
       "    }\n",
       "\n",
       "    .dataframe thead th {\n",
       "        text-align: right;\n",
       "    }\n",
       "</style>\n",
       "<table border=\"1\" class=\"dataframe\">\n",
       "  <thead>\n",
       "    <tr style=\"text-align: right;\">\n",
       "      <th></th>\n",
       "      <th>title_id</th>\n",
       "      <th>review_title</th>\n",
       "      <th>title_score</th>\n",
       "      <th>text_score</th>\n",
       "      <th>date</th>\n",
       "      <th>rating</th>\n",
       "    </tr>\n",
       "  </thead>\n",
       "  <tbody>\n",
       "    <tr>\n",
       "      <th>0</th>\n",
       "      <td>tt2267998</td>\n",
       "      <td>Interesting end\\n</td>\n",
       "      <td>0.4019</td>\n",
       "      <td>0.9810</td>\n",
       "      <td>2021-03-28</td>\n",
       "      <td>9</td>\n",
       "    </tr>\n",
       "    <tr>\n",
       "      <th>1</th>\n",
       "      <td>tt2267998</td>\n",
       "      <td>A masterpiece\\n</td>\n",
       "      <td>0.6249</td>\n",
       "      <td>0.0000</td>\n",
       "      <td>2021-03-20</td>\n",
       "      <td>10</td>\n",
       "    </tr>\n",
       "    <tr>\n",
       "      <th>2</th>\n",
       "      <td>tt2267998</td>\n",
       "      <td>Ending sucked Unfortunately\\n</td>\n",
       "      <td>-0.6597</td>\n",
       "      <td>-0.9966</td>\n",
       "      <td>2021-03-19</td>\n",
       "      <td>6</td>\n",
       "    </tr>\n",
       "    <tr>\n",
       "      <th>3</th>\n",
       "      <td>tt2267998</td>\n",
       "      <td>impressive film that guides the audience\\n</td>\n",
       "      <td>0.5106</td>\n",
       "      <td>0.9258</td>\n",
       "      <td>2021-03-18</td>\n",
       "      <td>9</td>\n",
       "    </tr>\n",
       "    <tr>\n",
       "      <th>4</th>\n",
       "      <td>tt2267998</td>\n",
       "      <td>Great movie but I am pissed off\\n</td>\n",
       "      <td>-0.6428</td>\n",
       "      <td>-0.9159</td>\n",
       "      <td>2021-03-18</td>\n",
       "      <td>9</td>\n",
       "    </tr>\n",
       "    <tr>\n",
       "      <th>...</th>\n",
       "      <td>...</td>\n",
       "      <td>...</td>\n",
       "      <td>...</td>\n",
       "      <td>...</td>\n",
       "      <td>...</td>\n",
       "      <td>...</td>\n",
       "    </tr>\n",
       "    <tr>\n",
       "      <th>20368</th>\n",
       "      <td>tt3862750</td>\n",
       "      <td>TOO GOOD TO BE TRUE\\n</td>\n",
       "      <td>0.6908</td>\n",
       "      <td>0.0036</td>\n",
       "      <td>2018-07-16</td>\n",
       "      <td>6</td>\n",
       "    </tr>\n",
       "    <tr>\n",
       "      <th>20369</th>\n",
       "      <td>tt3862750</td>\n",
       "      <td>Great thriller\\n</td>\n",
       "      <td>0.6705</td>\n",
       "      <td>0.6249</td>\n",
       "      <td>2018-05-13</td>\n",
       "      <td>9</td>\n",
       "    </tr>\n",
       "    <tr>\n",
       "      <th>20370</th>\n",
       "      <td>tt3862750</td>\n",
       "      <td>Not bad, not good, just meh....\\n</td>\n",
       "      <td>0.5981</td>\n",
       "      <td>0.8568</td>\n",
       "      <td>2017-08-25</td>\n",
       "      <td>5</td>\n",
       "    </tr>\n",
       "    <tr>\n",
       "      <th>20371</th>\n",
       "      <td>tt3862750</td>\n",
       "      <td>The Imperfect Guise\\n</td>\n",
       "      <td>-0.3182</td>\n",
       "      <td>0.9873</td>\n",
       "      <td>2017-04-02</td>\n",
       "      <td>6</td>\n",
       "    </tr>\n",
       "    <tr>\n",
       "      <th>20372</th>\n",
       "      <td>tt3862750</td>\n",
       "      <td>Pretty good movie\\n</td>\n",
       "      <td>0.7269</td>\n",
       "      <td>0.9905</td>\n",
       "      <td>2017-03-08</td>\n",
       "      <td>8</td>\n",
       "    </tr>\n",
       "  </tbody>\n",
       "</table>\n",
       "<p>20373 rows × 6 columns</p>\n",
       "</div>"
      ],
      "text/plain": [
       "        title_id                                 review_title  title_score  \\\n",
       "0      tt2267998                            Interesting end\\n       0.4019   \n",
       "1      tt2267998                              A masterpiece\\n       0.6249   \n",
       "2      tt2267998                Ending sucked Unfortunately\\n      -0.6597   \n",
       "3      tt2267998   impressive film that guides the audience\\n       0.5106   \n",
       "4      tt2267998            Great movie but I am pissed off\\n      -0.6428   \n",
       "...          ...                                          ...          ...   \n",
       "20368  tt3862750                        TOO GOOD TO BE TRUE\\n       0.6908   \n",
       "20369  tt3862750                             Great thriller\\n       0.6705   \n",
       "20370  tt3862750            Not bad, not good, just meh....\\n       0.5981   \n",
       "20371  tt3862750                        The Imperfect Guise\\n      -0.3182   \n",
       "20372  tt3862750                          Pretty good movie\\n       0.7269   \n",
       "\n",
       "       text_score       date  rating  \n",
       "0          0.9810 2021-03-28       9  \n",
       "1          0.0000 2021-03-20      10  \n",
       "2         -0.9966 2021-03-19       6  \n",
       "3          0.9258 2021-03-18       9  \n",
       "4         -0.9159 2021-03-18       9  \n",
       "...           ...        ...     ...  \n",
       "20368      0.0036 2018-07-16       6  \n",
       "20369      0.6249 2018-05-13       9  \n",
       "20370      0.8568 2017-08-25       5  \n",
       "20371      0.9873 2017-04-02       6  \n",
       "20372      0.9905 2017-03-08       8  \n",
       "\n",
       "[20373 rows x 6 columns]"
      ]
     },
     "execution_count": 270,
     "metadata": {},
     "output_type": "execute_result"
    }
   ],
   "source": [
    "thriller"
   ]
  },
  {
   "cell_type": "code",
   "execution_count": 271,
   "metadata": {},
   "outputs": [],
   "source": [
    "# thriller['date'] = thriller['date'].values.astype(float)"
   ]
  },
  {
   "cell_type": "code",
   "execution_count": 272,
   "metadata": {},
   "outputs": [
    {
     "data": {
      "text/plain": [
       "title_id                object\n",
       "review_title            object\n",
       "title_score            float64\n",
       "text_score             float64\n",
       "date            datetime64[ns]\n",
       "rating                   int64\n",
       "dtype: object"
      ]
     },
     "execution_count": 272,
     "metadata": {},
     "output_type": "execute_result"
    }
   ],
   "source": [
    "thriller.dtypes"
   ]
  },
  {
   "cell_type": "markdown",
   "metadata": {},
   "source": [
    "## Visualizations"
   ]
  },
  {
   "cell_type": "code",
   "execution_count": 273,
   "metadata": {},
   "outputs": [],
   "source": [
    "### Testing for overall changes in mood and reviews over time "
   ]
  },
  {
   "cell_type": "code",
   "execution_count": null,
   "metadata": {},
   "outputs": [
    {
     "data": {
      "text/plain": [
       "<AxesSubplot:xlabel='text_score', ylabel='count'>"
      ]
     },
     "execution_count": 279,
     "metadata": {},
     "output_type": "execute_result"
    }
   ],
   "source": [
    "sns.countplot(x='text_score',data=thriller)"
   ]
  },
  {
   "cell_type": "code",
   "execution_count": 275,
   "metadata": {},
   "outputs": [
    {
     "ename": "KeyError",
     "evalue": "'data'",
     "output_type": "error",
     "traceback": [
      "\u001b[1;31m---------------------------------------------------------------------------\u001b[0m",
      "\u001b[1;31mKeyError\u001b[0m                                  Traceback (most recent call last)",
      "\u001b[1;32mD:\\Anaconda_64bit\\lib\\site-packages\\pandas\\core\\indexes\\base.py\u001b[0m in \u001b[0;36mget_loc\u001b[1;34m(self, key, method, tolerance)\u001b[0m\n\u001b[0;32m   2894\u001b[0m             \u001b[1;32mtry\u001b[0m\u001b[1;33m:\u001b[0m\u001b[1;33m\u001b[0m\u001b[1;33m\u001b[0m\u001b[0m\n\u001b[1;32m-> 2895\u001b[1;33m                 \u001b[1;32mreturn\u001b[0m \u001b[0mself\u001b[0m\u001b[1;33m.\u001b[0m\u001b[0m_engine\u001b[0m\u001b[1;33m.\u001b[0m\u001b[0mget_loc\u001b[0m\u001b[1;33m(\u001b[0m\u001b[0mcasted_key\u001b[0m\u001b[1;33m)\u001b[0m\u001b[1;33m\u001b[0m\u001b[1;33m\u001b[0m\u001b[0m\n\u001b[0m\u001b[0;32m   2896\u001b[0m             \u001b[1;32mexcept\u001b[0m \u001b[0mKeyError\u001b[0m \u001b[1;32mas\u001b[0m \u001b[0merr\u001b[0m\u001b[1;33m:\u001b[0m\u001b[1;33m\u001b[0m\u001b[1;33m\u001b[0m\u001b[0m\n",
      "\u001b[1;32mpandas\\_libs\\index.pyx\u001b[0m in \u001b[0;36mpandas._libs.index.IndexEngine.get_loc\u001b[1;34m()\u001b[0m\n",
      "\u001b[1;32mpandas\\_libs\\index.pyx\u001b[0m in \u001b[0;36mpandas._libs.index.IndexEngine.get_loc\u001b[1;34m()\u001b[0m\n",
      "\u001b[1;32mpandas\\_libs\\hashtable_class_helper.pxi\u001b[0m in \u001b[0;36mpandas._libs.hashtable.PyObjectHashTable.get_item\u001b[1;34m()\u001b[0m\n",
      "\u001b[1;32mpandas\\_libs\\hashtable_class_helper.pxi\u001b[0m in \u001b[0;36mpandas._libs.hashtable.PyObjectHashTable.get_item\u001b[1;34m()\u001b[0m\n",
      "\u001b[1;31mKeyError\u001b[0m: 'data'",
      "\nThe above exception was the direct cause of the following exception:\n",
      "\u001b[1;31mKeyError\u001b[0m                                  Traceback (most recent call last)",
      "\u001b[1;32m<ipython-input-275-691203ea91a1>\u001b[0m in \u001b[0;36m<module>\u001b[1;34m\u001b[0m\n\u001b[0;32m      1\u001b[0m \u001b[0mfig\u001b[0m \u001b[1;33m=\u001b[0m \u001b[0mplt\u001b[0m\u001b[1;33m.\u001b[0m\u001b[0mfigure\u001b[0m\u001b[1;33m(\u001b[0m\u001b[0mfigsize\u001b[0m\u001b[1;33m=\u001b[0m\u001b[1;33m(\u001b[0m\u001b[1;36m12\u001b[0m\u001b[1;33m,\u001b[0m\u001b[1;36m12\u001b[0m\u001b[1;33m)\u001b[0m\u001b[1;33m)\u001b[0m\u001b[1;33m\u001b[0m\u001b[1;33m\u001b[0m\u001b[0m\n\u001b[0;32m      2\u001b[0m \u001b[1;31m# plt.scatter('date','review_title_sentiment_score',data=thriller['date'].loc[])\u001b[0m\u001b[1;33m\u001b[0m\u001b[1;33m\u001b[0m\u001b[1;33m\u001b[0m\u001b[0m\n\u001b[1;32m----> 3\u001b[1;33m \u001b[0msns\u001b[0m\u001b[1;33m.\u001b[0m\u001b[0mdistplot\u001b[0m\u001b[1;33m(\u001b[0m\u001b[0mthriller\u001b[0m\u001b[1;33m[\u001b[0m\u001b[1;34m'data'\u001b[0m\u001b[1;33m]\u001b[0m\u001b[1;33m.\u001b[0m\u001b[0mloc\u001b[0m\u001b[1;33m[\u001b[0m\u001b[1;34m'2020-01-01'\u001b[0m\u001b[1;33m:\u001b[0m\u001b[1;34m'2020-12-31'\u001b[0m\u001b[1;33m]\u001b[0m\u001b[1;33m,\u001b[0m\u001b[0mcolor\u001b[0m\u001b[1;33m=\u001b[0m\u001b[1;34m'green'\u001b[0m\u001b[1;33m,\u001b[0m\u001b[0mbins\u001b[0m\u001b[1;33m=\u001b[0m\u001b[1;36m100\u001b[0m\u001b[1;33m)\u001b[0m\u001b[1;33m\u001b[0m\u001b[1;33m\u001b[0m\u001b[0m\n\u001b[0m\u001b[0;32m      4\u001b[0m \u001b[1;31m# sns.clustermap(data=thriller)\u001b[0m\u001b[1;33m\u001b[0m\u001b[1;33m\u001b[0m\u001b[1;33m\u001b[0m\u001b[0m\n\u001b[0;32m      5\u001b[0m \u001b[1;31m# plt.xticks(rotation=50)\u001b[0m\u001b[1;33m\u001b[0m\u001b[1;33m\u001b[0m\u001b[1;33m\u001b[0m\u001b[0m\n",
      "\u001b[1;32mD:\\Anaconda_64bit\\lib\\site-packages\\pandas\\core\\frame.py\u001b[0m in \u001b[0;36m__getitem__\u001b[1;34m(self, key)\u001b[0m\n\u001b[0;32m   2900\u001b[0m             \u001b[1;32mif\u001b[0m \u001b[0mself\u001b[0m\u001b[1;33m.\u001b[0m\u001b[0mcolumns\u001b[0m\u001b[1;33m.\u001b[0m\u001b[0mnlevels\u001b[0m \u001b[1;33m>\u001b[0m \u001b[1;36m1\u001b[0m\u001b[1;33m:\u001b[0m\u001b[1;33m\u001b[0m\u001b[1;33m\u001b[0m\u001b[0m\n\u001b[0;32m   2901\u001b[0m                 \u001b[1;32mreturn\u001b[0m \u001b[0mself\u001b[0m\u001b[1;33m.\u001b[0m\u001b[0m_getitem_multilevel\u001b[0m\u001b[1;33m(\u001b[0m\u001b[0mkey\u001b[0m\u001b[1;33m)\u001b[0m\u001b[1;33m\u001b[0m\u001b[1;33m\u001b[0m\u001b[0m\n\u001b[1;32m-> 2902\u001b[1;33m             \u001b[0mindexer\u001b[0m \u001b[1;33m=\u001b[0m \u001b[0mself\u001b[0m\u001b[1;33m.\u001b[0m\u001b[0mcolumns\u001b[0m\u001b[1;33m.\u001b[0m\u001b[0mget_loc\u001b[0m\u001b[1;33m(\u001b[0m\u001b[0mkey\u001b[0m\u001b[1;33m)\u001b[0m\u001b[1;33m\u001b[0m\u001b[1;33m\u001b[0m\u001b[0m\n\u001b[0m\u001b[0;32m   2903\u001b[0m             \u001b[1;32mif\u001b[0m \u001b[0mis_integer\u001b[0m\u001b[1;33m(\u001b[0m\u001b[0mindexer\u001b[0m\u001b[1;33m)\u001b[0m\u001b[1;33m:\u001b[0m\u001b[1;33m\u001b[0m\u001b[1;33m\u001b[0m\u001b[0m\n\u001b[0;32m   2904\u001b[0m                 \u001b[0mindexer\u001b[0m \u001b[1;33m=\u001b[0m \u001b[1;33m[\u001b[0m\u001b[0mindexer\u001b[0m\u001b[1;33m]\u001b[0m\u001b[1;33m\u001b[0m\u001b[1;33m\u001b[0m\u001b[0m\n",
      "\u001b[1;32mD:\\Anaconda_64bit\\lib\\site-packages\\pandas\\core\\indexes\\base.py\u001b[0m in \u001b[0;36mget_loc\u001b[1;34m(self, key, method, tolerance)\u001b[0m\n\u001b[0;32m   2895\u001b[0m                 \u001b[1;32mreturn\u001b[0m \u001b[0mself\u001b[0m\u001b[1;33m.\u001b[0m\u001b[0m_engine\u001b[0m\u001b[1;33m.\u001b[0m\u001b[0mget_loc\u001b[0m\u001b[1;33m(\u001b[0m\u001b[0mcasted_key\u001b[0m\u001b[1;33m)\u001b[0m\u001b[1;33m\u001b[0m\u001b[1;33m\u001b[0m\u001b[0m\n\u001b[0;32m   2896\u001b[0m             \u001b[1;32mexcept\u001b[0m \u001b[0mKeyError\u001b[0m \u001b[1;32mas\u001b[0m \u001b[0merr\u001b[0m\u001b[1;33m:\u001b[0m\u001b[1;33m\u001b[0m\u001b[1;33m\u001b[0m\u001b[0m\n\u001b[1;32m-> 2897\u001b[1;33m                 \u001b[1;32mraise\u001b[0m \u001b[0mKeyError\u001b[0m\u001b[1;33m(\u001b[0m\u001b[0mkey\u001b[0m\u001b[1;33m)\u001b[0m \u001b[1;32mfrom\u001b[0m \u001b[0merr\u001b[0m\u001b[1;33m\u001b[0m\u001b[1;33m\u001b[0m\u001b[0m\n\u001b[0m\u001b[0;32m   2898\u001b[0m \u001b[1;33m\u001b[0m\u001b[0m\n\u001b[0;32m   2899\u001b[0m         \u001b[1;32mif\u001b[0m \u001b[0mtolerance\u001b[0m \u001b[1;32mis\u001b[0m \u001b[1;32mnot\u001b[0m \u001b[1;32mNone\u001b[0m\u001b[1;33m:\u001b[0m\u001b[1;33m\u001b[0m\u001b[1;33m\u001b[0m\u001b[0m\n",
      "\u001b[1;31mKeyError\u001b[0m: 'data'"
     ]
    },
    {
     "data": {
      "text/plain": [
       "<Figure size 864x864 with 0 Axes>"
      ]
     },
     "metadata": {},
     "output_type": "display_data"
    }
   ],
   "source": [
    "fig = plt.figure(figsize=(12,12))\n",
    "# plt.scatter('date','review_title_sentiment_score',data=thriller['date'].loc[])\n",
    "sns.distplot(thriller['data'].loc['2020-01-01':'2020-12-31'],color='green',bins=100)\n",
    "# sns.clustermap(data=thriller)\n",
    "# plt.xticks(rotation=50)"
   ]
  },
  {
   "cell_type": "code",
   "execution_count": 38,
   "metadata": {},
   "outputs": [
    {
     "data": {
      "text/html": [
       "<div>\n",
       "<style scoped>\n",
       "    .dataframe tbody tr th:only-of-type {\n",
       "        vertical-align: middle;\n",
       "    }\n",
       "\n",
       "    .dataframe tbody tr th {\n",
       "        vertical-align: top;\n",
       "    }\n",
       "\n",
       "    .dataframe thead th {\n",
       "        text-align: right;\n",
       "    }\n",
       "</style>\n",
       "<table border=\"1\" class=\"dataframe\">\n",
       "  <thead>\n",
       "    <tr style=\"text-align: right;\">\n",
       "      <th></th>\n",
       "      <th>review_title_sentiment_score</th>\n",
       "      <th>review_text_sentiment_score</th>\n",
       "      <th>rating</th>\n",
       "    </tr>\n",
       "  </thead>\n",
       "  <tbody>\n",
       "    <tr>\n",
       "      <th>review_title_sentiment_score</th>\n",
       "      <td>1.000000</td>\n",
       "      <td>0.326019</td>\n",
       "      <td>0.412286</td>\n",
       "    </tr>\n",
       "    <tr>\n",
       "      <th>review_text_sentiment_score</th>\n",
       "      <td>0.326019</td>\n",
       "      <td>1.000000</td>\n",
       "      <td>0.441208</td>\n",
       "    </tr>\n",
       "    <tr>\n",
       "      <th>rating</th>\n",
       "      <td>0.412286</td>\n",
       "      <td>0.441208</td>\n",
       "      <td>1.000000</td>\n",
       "    </tr>\n",
       "  </tbody>\n",
       "</table>\n",
       "</div>"
      ],
      "text/plain": [
       "                              review_title_sentiment_score  \\\n",
       "review_title_sentiment_score                      1.000000   \n",
       "review_text_sentiment_score                       0.326019   \n",
       "rating                                            0.412286   \n",
       "\n",
       "                              review_text_sentiment_score    rating  \n",
       "review_title_sentiment_score                     0.326019  0.412286  \n",
       "review_text_sentiment_score                      1.000000  0.441208  \n",
       "rating                                           0.441208  1.000000  "
      ]
     },
     "execution_count": 38,
     "metadata": {},
     "output_type": "execute_result"
    }
   ],
   "source": []
  }
 ],
 "metadata": {
  "kernelspec": {
   "display_name": "Python 3",
   "language": "python",
   "name": "python3"
  },
  "language_info": {
   "codemirror_mode": {
    "name": "ipython",
    "version": 3
   },
   "file_extension": ".py",
   "mimetype": "text/x-python",
   "name": "python",
   "nbconvert_exporter": "python",
   "pygments_lexer": "ipython3",
   "version": "3.8.5"
  }
 },
 "nbformat": 4,
 "nbformat_minor": 4
}
